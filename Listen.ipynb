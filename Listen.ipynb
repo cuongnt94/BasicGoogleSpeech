import speech_recognition as sr
import pyttsx3 as py
from datetime import date, datetime

# prompt google for result
try: 
    from googlesearch import search 
except ImportError:  
    print("No module named 'google' found")
    

# set up speech_recognition
robot_ear = sr.Recognizer()
engine = py.init()
fromUser = ""

while(True):
    with sr.Microphone() as mic:
        print("Robot: I'm listening")
        
        # limit the listening for user response to 3s
        audio = robot_ear.record(mic,duration=3)
        try:
            fromUser = robot_ear.recognize_google(audio)
            print(fromUser)
        except:
            fromUser = ""

    if fromUser == '':
        toUser = "I can't hear you, please try again"
    elif fromUser == 'hello':
        toUser = "Hello Cuong Lai"
    elif fromUser == 'today':
        today = date.today()
        toUser = today.strftime("Today is %B %d, %Y")
    elif fromUser == 'time':
        now = datetime.now()
        toUser = now.strftime("It's %I:%M %p")
    elif fromUser.startswith('Google'):
        query = fromUser[7:]
        for j in search(query, tld="co.in", num=1, stop=1, pause=2): 
             toUser = 'The best result I found is ' + j
    elif fromUser == 'goodbye':
        toUser = 'Goodbye!'
        break;
    else:
        toUser = "Vietnam number 1"

    print("Response: " + toUser)
    engine.say(toUser)
    engine.runAndWait() 
